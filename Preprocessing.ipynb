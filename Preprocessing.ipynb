{
 "cells": [
  {
   "metadata": {
    "ExecuteTime": {
     "end_time": "2024-05-24T08:09:06.053559Z",
     "start_time": "2024-05-24T08:08:55.349342Z"
    }
   },
   "cell_type": "code",
   "source": [
    "# Importazione delle librerie necessarie\n",
    "import os\n",
    "import numpy as np\n",
    "import librosa\n",
    "import soundfile as sf\n",
    "import matplotlib.pyplot as plt\n",
    "import librosa.display\n",
    "from pydub import AudioSegment\n",
    "from tqdm import tqdm  # Importa la libreria tqdm per la progress bar\n",
    "# Definizione delle directory di input e output\n",
    "input_dir = 'dataset_1/Target/Acoustic Harassment Devices'\n",
    "output_dir = 'NuovoDataset'\n",
    "\n",
    "# Creare la directory di output se non esiste\n",
    "os.makedirs(output_dir, exist_ok=True)\n",
    "\n",
    "# Definizione della lunghezza desiderata in secondi e in campioni\n",
    "desired_length_sec = 4  # Durata desiderata in secondi\n",
    "sampling_rate = 192000  # Frequenza di campionamento (modifica se necessario)\n",
    "desired_length_samples = int(desired_length_sec * sampling_rate)\n",
    "# Lista per memorizzare i percorsi dei file audio\n",
    "audio_files = []\n",
    "\n",
    "# Scorrere ricorsivamente le cartelle nel dataset\n",
    "for root, dirs, files in os.walk(input_dir):\n",
    "    for file in files:\n",
    "        if file.endswith('.wav') or file.endswith('.mp3'):\n",
    "            audio_files.append(os.path.join(root, file))\n",
    "\n",
    "# Visualizzare il numero di file audio trovati\n",
    "print(f\"Numero di file audio trovati: {len(audio_files)}\")\n",
    "from pydub.effects import normalize\n",
    "# Funzione per tagliare, generare e salvare gli spettrogrammi\n",
    "def preprocess_audio(file, output_dir, desired_length_samples, sampling_rate):\n",
    "    # Controlla l'estensione del file\n",
    "    if file.endswith('.mp3'):\n",
    "        audio = AudioSegment.from_mp3(file).set_frame_rate(sampling_rate).set_channels(1)\n",
    "        \n",
    "        #aggiustare questo pezzo \n",
    "        \n",
    "        y = np.array(audio.get_array_of_samples(), dtype=np.float32) / 32768.0  # Normalizzazione\n",
    "        sr = audio.frame_rate\n",
    "    else:  # file.endswith('.wav')\n",
    "        y, sr = sf.read(file, always_2d=False)\n",
    "        if len(y.shape) > 1:  # Se stereo, converte in mono\n",
    "            y = librosa.to_mono(y.T)\n",
    "        y = librosa.resample(y, orig_sr=sr, target_sr=sampling_rate)\n",
    "        sr = sampling_rate\n",
    "        \n",
    "    # Normalizza l'audio tra 0 e 1\n",
    "    y = (y / np.max(y) + 1) / 2\n",
    " \n",
    "    # Dividi l'audio in segmenti di 4 secondi\n",
    "    for i in range(0, len(y), desired_length_samples):\n",
    "        segment = y[i:i + desired_length_samples]\n",
    "        if len(segment) < desired_length_samples:\n",
    "            segment = np.pad(segment, (0, desired_length_samples - len(segment)), mode='constant')\n",
    "        \n",
    "        # Creare lo spettrogramma utilizzando STFT\n",
    "        D = np.abs(librosa.stft(segment))  # Magnitude of the STFT\n",
    "        D_db = librosa.amplitude_to_db(D, ref=np.max)\n",
    "        \n",
    "        # Creare la struttura delle directory di output mantenendo la stessa gerarchia\n",
    "        relative_path = os.path.relpath(file, input_dir)\n",
    "        segment_output_dir = os.path.splitext(os.path.join(output_dir, relative_path))[0]\n",
    "        os.makedirs(segment_output_dir, exist_ok=True)\n",
    "        spectrogram_output_file = os.path.join(segment_output_dir, f'segment_{i // desired_length_samples}.png')\n",
    "        \n",
    "        # Salva lo spettrogramma come immagine\n",
    "        plt.figure(figsize=(10, 4))\n",
    "        librosa.display.specshow(D_db, sr=sr, x_axis='time', y_axis='log')\n",
    "        plt.colorbar(format='%+2.0f dB')\n",
    "        plt.title('Spectrogram (STFT)')\n",
    "        plt.tight_layout()\n",
    "        plt.savefig(spectrogram_output_file, bbox_inches='tight', pad_inches=0.1)\n",
    "        plt.close()\n",
    "        \n",
    "        \n",
    "# Preprocessamento di ciascun file audio con progress bar\n",
    "with tqdm(total=len(audio_files), desc='Processing audio files') as progress_bar:\n",
    "    for file in audio_files:\n",
    "        preprocess_audio(file, output_dir, desired_length_samples, sampling_rate)\n",
    "        progress_bar.update(1)\n",
    "\n",
    "print(\"Tutti gli spettrogrammi sono stati generati e salvati come immagini.\")"
   ],
   "id": "initial_id",
   "outputs": [
    {
     "name": "stdout",
     "output_type": "stream",
     "text": [
      "Numero di file audio trovati: 1\n"
     ]
    },
    {
     "name": "stderr",
     "output_type": "stream",
     "text": [
      "Processing audio files: 100%|██████████| 1/1 [00:10<00:00, 10.56s/it]"
     ]
    },
    {
     "name": "stdout",
     "output_type": "stream",
     "text": [
      "Tutti gli spettrogrammi sono stati generati e salvati come immagini.\n"
     ]
    },
    {
     "name": "stderr",
     "output_type": "stream",
     "text": [
      "\n"
     ]
    }
   ],
   "execution_count": 1
  }
 ],
 "metadata": {
  "kernelspec": {
   "display_name": "Python 3",
   "language": "python",
   "name": "python3"
  },
  "language_info": {
   "codemirror_mode": {
    "name": "ipython",
    "version": 2
   },
   "file_extension": ".py",
   "mimetype": "text/x-python",
   "name": "python",
   "nbconvert_exporter": "python",
   "pygments_lexer": "ipython2",
   "version": "2.7.6"
  }
 },
 "nbformat": 4,
 "nbformat_minor": 5
}
