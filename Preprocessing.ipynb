{
 "cells": [
  {
   "cell_type": "code",
   "execution_count": 12,
   "id": "d72bb0f6a6d6160f",
   "metadata": {
    "collapsed": false,
    "ExecuteTime": {
     "end_time": "2024-05-22T12:45:28.824851Z",
     "start_time": "2024-05-22T12:45:28.819611Z"
    }
   },
   "outputs": [],
   "source": [
    "# Importazione delle librerie necessarie\n",
    "import os\n",
    "import numpy as np\n",
    "import librosa\n",
    "import soundfile as sf\n",
    "import matplotlib.pyplot as plt\n",
    "import librosa.display\n",
    "from pydub import AudioSegment\n",
    "from tqdm import tqdm  # Importa la libreria tqdm per la progress bar"
   ]
  },
  {
   "cell_type": "code",
   "outputs": [],
   "source": [
    "# Definizione delle directory di input e output\n",
    "input_dir = 'Dataset'\n",
    "output_dir = 'NuovoDataset'\n",
    "\n",
    "# Creare la directory di output se non esiste\n",
    "os.makedirs(output_dir, exist_ok=True)\n",
    "\n",
    "# Definizione della lunghezza desiderata in secondi e in campioni\n",
    "desired_length_sec = 4  # Durata desiderata in secondi\n",
    "sampling_rate = 192000  # Frequenza di campionamento (modifica se necessario)\n",
    "desired_length_samples = int(desired_length_sec * sampling_rate)"
   ],
   "metadata": {
    "collapsed": false
   },
   "id": "b1a62dfc3e0a031d"
  },
  {
   "cell_type": "code",
   "outputs": [],
   "source": [
    "# Lista per memorizzare i percorsi dei file audio\n",
    "audio_files = []\n",
    "\n",
    "# Scorrere ricorsivamente le cartelle nel dataset\n",
    "for root, dirs, files in os.walk(input_dir):\n",
    "    for file in files:\n",
    "        if file.endswith('.wav') or file.endswith('.mp3'):\n",
    "            audio_files.append(os.path.join(root, file))\n",
    "\n",
    "# Visualizzare il numero di file audio trovati\n",
    "print(f\"Numero di file audio trovati: {len(audio_files)}\")"
   ],
   "metadata": {
    "collapsed": false
   },
   "id": "e23d16544d443803"
  },
  {
   "cell_type": "code",
   "outputs": [],
   "source": [
    "# Funzione per tagliare e generare gli spettrogrammi\n",
    "def preprocess_audio(file, output_dir, desired_length_samples, sampling_rate):\n",
    "    # Controlla l'estensione del file\n",
    "    if file.endswith('.mp3'):\n",
    "        audio = AudioSegment.from_mp3(file)\n",
    "        # Converti in formato compatibile con librosa\n",
    "        y = np.array(audio.get_array_of_samples(), dtype=np.float32)\n",
    "        sr = audio.frame_rate\n",
    "        if audio.channels == 2:\n",
    "            y = librosa.to_mono(y.reshape((-1, 2)).T)\n",
    "    else:  # file.endswith('.wav')\n",
    "        y, sr = librosa.load(file, sr=sampling_rate, mono=True)\n",
    "    \n",
    "    y_trimmed = librosa.util.fix_length(y, size=desired_length_samples, axis=-1)\n",
    "    \n",
    "    # Creare lo spettrogramma utilizzando STFT\n",
    "    D = np.abs(librosa.stft(y_trimmed))  # Magnitude of the STFT\n",
    "    D_db = librosa.amplitude_to_db(D, ref=np.max)\n",
    "    \n",
    "    # Creare la struttura delle directory di output mantenendo la stessa gerarchia\n",
    "    relative_path = os.path.relpath(file, input_dir)\n",
    "    spectrogram_output_file = os.path.splitext(os.path.join(output_dir, relative_path))[0] + '.png'\n",
    "    os.makedirs(os.path.dirname(spectrogram_output_file), exist_ok=True)\n",
    "    \n",
    "    # Salva lo spettrogramma come immagine\n",
    "    plt.figure(figsize=(10, 4))\n",
    "    librosa.display.specshow(D_db, sr=sr, x_axis='time', y_axis='log')\n",
    "    plt.colorbar(format='%+2.0f dB')\n",
    "    plt.title('Spectrogram (STFT)')\n",
    "    plt.tight_layout()\n",
    "    plt.savefig(spectrogram_output_file, bbox_inches='tight', pad_inches=0.1)\n",
    "    plt.close()"
   ],
   "metadata": {
    "collapsed": false
   },
   "id": "59e627eabcc55210"
  },
  {
   "cell_type": "code",
   "outputs": [],
   "source": [
    "# Preprocessamento di ciascun file audio con progress bar\n",
    "with tqdm(total=len(audio_files), desc='Processing audio files') as progress_bar:\n",
    "    for file in audio_files:\n",
    "        preprocess_audio(file, output_dir, desired_length_samples, sampling_rate)\n",
    "        progress_bar.update(1)\n",
    "\n",
    "print(\"Tutti gli spettrogrammi sono stati generati e salvati come immagini.\")"
   ],
   "metadata": {
    "collapsed": false
   },
   "id": "398afa67271a7370"
  }
 ],
 "metadata": {
  "kernelspec": {
   "display_name": "Python 3",
   "language": "python",
   "name": "python3"
  },
  "language_info": {
   "codemirror_mode": {
    "name": "ipython",
    "version": 2
   },
   "file_extension": ".py",
   "mimetype": "text/x-python",
   "name": "python",
   "nbconvert_exporter": "python",
   "pygments_lexer": "ipython2",
   "version": "2.7.6"
  }
 },
 "nbformat": 4,
 "nbformat_minor": 5
}
