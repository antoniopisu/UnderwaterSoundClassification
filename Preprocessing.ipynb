{
 "cells": [
  {
   "cell_type": "code",
   "execution_count": 1,
   "id": "d72bb0f6a6d6160f",
   "metadata": {
    "collapsed": false,
    "ExecuteTime": {
     "end_time": "2024-05-21T10:04:34.102523Z",
     "start_time": "2024-05-21T10:04:34.010758Z"
    }
   },
   "outputs": [],
   "source": [
    "# Importazione delle librerie necessarie\n",
    "import os\n",
    "import numpy as np\n",
    "import librosa\n",
    "import soundfile as sf\n",
    "import matplotlib.pyplot as plt\n",
    "import librosa.display\n",
    "from pydub import AudioSegment\n",
    "from tqdm import tqdm  # Importa la libreria tqdm per la progress bar"
   ]
  },
  {
   "cell_type": "code",
   "outputs": [],
   "source": [
    "# Definizione delle directory di input e output\n",
    "input_dir = 'Dataset'\n",
    "output_dir = 'NuovoDataset'\n",
    "\n",
    "# Creare la directory di output se non esiste\n",
    "os.makedirs(output_dir, exist_ok=True)\n",
    "\n",
    "# Definizione della lunghezza desiderata in secondi e in campioni\n",
    "desired_length_sec = 4  # Durata desiderata in secondi\n",
    "sampling_rate = 192000  # Frequenza di campionamento (modifica se necessario)\n",
    "desired_length_samples = int(desired_length_sec * sampling_rate)"
   ],
   "metadata": {
    "collapsed": false,
    "ExecuteTime": {
     "end_time": "2024-05-21T10:04:34.105641Z",
     "start_time": "2024-05-21T10:04:34.103738Z"
    }
   },
   "id": "48e4d598788ce375",
   "execution_count": 2
  },
  {
   "cell_type": "code",
   "outputs": [
    {
     "name": "stdout",
     "output_type": "stream",
     "text": [
      "Numero di file audio trovati: 2730\n"
     ]
    }
   ],
   "source": [
    "# Lista per memorizzare i percorsi dei file audio\n",
    "audio_files = []\n",
    "\n",
    "# Scorrere ricorsivamente le cartelle nel dataset\n",
    "for root, dirs, files in os.walk(input_dir):\n",
    "    for file in files:\n",
    "        if file.endswith('.wav') or file.endswith('.mp3'):\n",
    "            audio_files.append(os.path.join(root, file))\n",
    "\n",
    "# Visualizzare il numero di file audio trovati\n",
    "print(f\"Numero di file audio trovati: {len(audio_files)}\")"
   ],
   "metadata": {
    "collapsed": false,
    "ExecuteTime": {
     "end_time": "2024-05-21T10:04:34.130883Z",
     "start_time": "2024-05-21T10:04:34.106290Z"
    }
   },
   "id": "7745630b0bd920c4",
   "execution_count": 3
  },
  {
   "cell_type": "code",
   "outputs": [],
   "source": [
    "# Funzione per tagliare e generare gli spettrogrammi\n",
    "def preprocess_audio(file, output_dir, desired_length_samples, sampling_rate):\n",
    "    # Controlla l'estensione del file\n",
    "    if file.endswith('.mp3'):\n",
    "        audio = AudioSegment.from_mp3(file)\n",
    "        # Converti in formato compatibile con librosa\n",
    "        y = np.array(audio.get_array_of_samples(), dtype=np.float32)\n",
    "        sr = audio.frame_rate\n",
    "        if audio.channels == 2:\n",
    "            y = librosa.to_mono(y.reshape((-1, 2)).T)\n",
    "    else:  # file.endswith('.wav')\n",
    "        y, sr = librosa.load(file, sr=sampling_rate, mono=True)\n",
    "    \n",
    "    y_trimmed = librosa.util.fix_length(y, size=desired_length_samples, axis=-1)\n",
    "    \n",
    "    # Creare lo spettrogramma utilizzando STFT\n",
    "    D = np.abs(librosa.stft(y_trimmed))  # Magnitude of the STFT\n",
    "    D_db = librosa.amplitude_to_db(D, ref=np.max)\n",
    "    \n",
    "    # Creare la struttura delle directory di output mantenendo la stessa gerarchia\n",
    "    relative_path = os.path.relpath(file, input_dir)\n",
    "    spectrogram_output_file = os.path.splitext(os.path.join(output_dir, relative_path))[0] + '.png'\n",
    "    os.makedirs(os.path.dirname(spectrogram_output_file), exist_ok=True)\n",
    "    \n",
    "    # Salva lo spettrogramma come immagine\n",
    "    plt.figure(figsize=(10, 4))\n",
    "    librosa.display.specshow(D_db, sr=sr, x_axis='time', y_axis='log')\n",
    "    plt.colorbar(format='%+2.0f dB')\n",
    "    plt.title('Spectrogram (STFT)')\n",
    "    plt.tight_layout()\n",
    "    plt.savefig(spectrogram_output_file, bbox_inches='tight', pad_inches=0.1)\n",
    "    plt.close()"
   ],
   "metadata": {
    "collapsed": false,
    "ExecuteTime": {
     "end_time": "2024-05-21T10:04:34.135731Z",
     "start_time": "2024-05-21T10:04:34.131431Z"
    }
   },
   "id": "e7da44574180ef99",
   "execution_count": 4
  },
  {
   "cell_type": "code",
   "outputs": [
    {
     "name": "stderr",
     "output_type": "stream",
     "text": [
      "Processing audio files:   6%|▌         | 160/2730 [03:58<1:03:43,  1.49s/it]\n"
     ]
    },
    {
     "ename": "KeyboardInterrupt",
     "evalue": "",
     "output_type": "error",
     "traceback": [
      "\u001B[0;31m---------------------------------------------------------------------------\u001B[0m",
      "\u001B[0;31mKeyboardInterrupt\u001B[0m                         Traceback (most recent call last)",
      "Cell \u001B[0;32mIn[5], line 4\u001B[0m\n\u001B[1;32m      2\u001B[0m \u001B[38;5;28;01mwith\u001B[39;00m tqdm(total\u001B[38;5;241m=\u001B[39m\u001B[38;5;28mlen\u001B[39m(audio_files), desc\u001B[38;5;241m=\u001B[39m\u001B[38;5;124m'\u001B[39m\u001B[38;5;124mProcessing audio files\u001B[39m\u001B[38;5;124m'\u001B[39m) \u001B[38;5;28;01mas\u001B[39;00m progress_bar:\n\u001B[1;32m      3\u001B[0m     \u001B[38;5;28;01mfor\u001B[39;00m file \u001B[38;5;129;01min\u001B[39;00m audio_files:\n\u001B[0;32m----> 4\u001B[0m         \u001B[43mpreprocess_audio\u001B[49m\u001B[43m(\u001B[49m\u001B[43mfile\u001B[49m\u001B[43m,\u001B[49m\u001B[43m \u001B[49m\u001B[43moutput_dir\u001B[49m\u001B[43m,\u001B[49m\u001B[43m \u001B[49m\u001B[43mdesired_length_samples\u001B[49m\u001B[43m,\u001B[49m\u001B[43m \u001B[49m\u001B[43msampling_rate\u001B[49m\u001B[43m)\u001B[49m\n\u001B[1;32m      5\u001B[0m         progress_bar\u001B[38;5;241m.\u001B[39mupdate(\u001B[38;5;241m1\u001B[39m)\n\u001B[1;32m      7\u001B[0m \u001B[38;5;28mprint\u001B[39m(\u001B[38;5;124m\"\u001B[39m\u001B[38;5;124mTutti gli spettrogrammi sono stati generati e salvati come immagini.\u001B[39m\u001B[38;5;124m\"\u001B[39m)\n",
      "Cell \u001B[0;32mIn[4], line 12\u001B[0m, in \u001B[0;36mpreprocess_audio\u001B[0;34m(file, output_dir, desired_length_samples, sampling_rate)\u001B[0m\n\u001B[1;32m     10\u001B[0m         y \u001B[38;5;241m=\u001B[39m librosa\u001B[38;5;241m.\u001B[39mto_mono(y\u001B[38;5;241m.\u001B[39mreshape((\u001B[38;5;241m-\u001B[39m\u001B[38;5;241m1\u001B[39m, \u001B[38;5;241m2\u001B[39m))\u001B[38;5;241m.\u001B[39mT)\n\u001B[1;32m     11\u001B[0m \u001B[38;5;28;01melse\u001B[39;00m:  \u001B[38;5;66;03m# file.endswith('.wav')\u001B[39;00m\n\u001B[0;32m---> 12\u001B[0m     y, sr \u001B[38;5;241m=\u001B[39m \u001B[43mlibrosa\u001B[49m\u001B[38;5;241;43m.\u001B[39;49m\u001B[43mload\u001B[49m\u001B[43m(\u001B[49m\u001B[43mfile\u001B[49m\u001B[43m,\u001B[49m\u001B[43m \u001B[49m\u001B[43msr\u001B[49m\u001B[38;5;241;43m=\u001B[39;49m\u001B[43msampling_rate\u001B[49m\u001B[43m,\u001B[49m\u001B[43m \u001B[49m\u001B[43mmono\u001B[49m\u001B[38;5;241;43m=\u001B[39;49m\u001B[38;5;28;43;01mTrue\u001B[39;49;00m\u001B[43m)\u001B[49m\n\u001B[1;32m     14\u001B[0m y_trimmed \u001B[38;5;241m=\u001B[39m librosa\u001B[38;5;241m.\u001B[39mutil\u001B[38;5;241m.\u001B[39mfix_length(y, size\u001B[38;5;241m=\u001B[39mdesired_length_samples, axis\u001B[38;5;241m=\u001B[39m\u001B[38;5;241m-\u001B[39m\u001B[38;5;241m1\u001B[39m)\n\u001B[1;32m     16\u001B[0m \u001B[38;5;66;03m# Creare lo spettrogramma utilizzando STFT\u001B[39;00m\n",
      "File \u001B[0;32m/Library/Frameworks/Python.framework/Versions/3.10/lib/python3.10/site-packages/librosa/core/audio.py:193\u001B[0m, in \u001B[0;36mload\u001B[0;34m(path, sr, mono, offset, duration, dtype, res_type)\u001B[0m\n\u001B[1;32m    190\u001B[0m     y \u001B[38;5;241m=\u001B[39m to_mono(y)\n\u001B[1;32m    192\u001B[0m \u001B[38;5;28;01mif\u001B[39;00m sr \u001B[38;5;129;01mis\u001B[39;00m \u001B[38;5;129;01mnot\u001B[39;00m \u001B[38;5;28;01mNone\u001B[39;00m:\n\u001B[0;32m--> 193\u001B[0m     y \u001B[38;5;241m=\u001B[39m \u001B[43mresample\u001B[49m\u001B[43m(\u001B[49m\u001B[43my\u001B[49m\u001B[43m,\u001B[49m\u001B[43m \u001B[49m\u001B[43morig_sr\u001B[49m\u001B[38;5;241;43m=\u001B[39;49m\u001B[43msr_native\u001B[49m\u001B[43m,\u001B[49m\u001B[43m \u001B[49m\u001B[43mtarget_sr\u001B[49m\u001B[38;5;241;43m=\u001B[39;49m\u001B[43msr\u001B[49m\u001B[43m,\u001B[49m\u001B[43m \u001B[49m\u001B[43mres_type\u001B[49m\u001B[38;5;241;43m=\u001B[39;49m\u001B[43mres_type\u001B[49m\u001B[43m)\u001B[49m\n\u001B[1;32m    195\u001B[0m \u001B[38;5;28;01melse\u001B[39;00m:\n\u001B[1;32m    196\u001B[0m     sr \u001B[38;5;241m=\u001B[39m sr_native\n",
      "File \u001B[0;32m/Library/Frameworks/Python.framework/Versions/3.10/lib/python3.10/site-packages/librosa/core/audio.py:669\u001B[0m, in \u001B[0;36mresample\u001B[0;34m(y, orig_sr, target_sr, res_type, fix, scale, axis, **kwargs)\u001B[0m\n\u001B[1;32m    663\u001B[0m     y_hat \u001B[38;5;241m=\u001B[39m np\u001B[38;5;241m.\u001B[39mapply_along_axis(\n\u001B[1;32m    664\u001B[0m         samplerate\u001B[38;5;241m.\u001B[39mresample, axis\u001B[38;5;241m=\u001B[39maxis, arr\u001B[38;5;241m=\u001B[39my, ratio\u001B[38;5;241m=\u001B[39mratio, converter_type\u001B[38;5;241m=\u001B[39mres_type\n\u001B[1;32m    665\u001B[0m     )\n\u001B[1;32m    666\u001B[0m \u001B[38;5;28;01melif\u001B[39;00m res_type\u001B[38;5;241m.\u001B[39mstartswith(\u001B[38;5;124m\"\u001B[39m\u001B[38;5;124msoxr\u001B[39m\u001B[38;5;124m\"\u001B[39m):\n\u001B[1;32m    667\u001B[0m     \u001B[38;5;66;03m# Use numpy to vectorize the resampler along the target axis\u001B[39;00m\n\u001B[1;32m    668\u001B[0m     \u001B[38;5;66;03m# This is because soxr does not support ndim>2 generally.\u001B[39;00m\n\u001B[0;32m--> 669\u001B[0m     y_hat \u001B[38;5;241m=\u001B[39m \u001B[43mnp\u001B[49m\u001B[38;5;241;43m.\u001B[39;49m\u001B[43mapply_along_axis\u001B[49m\u001B[43m(\u001B[49m\n\u001B[1;32m    670\u001B[0m \u001B[43m        \u001B[49m\u001B[43msoxr\u001B[49m\u001B[38;5;241;43m.\u001B[39;49m\u001B[43mresample\u001B[49m\u001B[43m,\u001B[49m\n\u001B[1;32m    671\u001B[0m \u001B[43m        \u001B[49m\u001B[43maxis\u001B[49m\u001B[38;5;241;43m=\u001B[39;49m\u001B[43maxis\u001B[49m\u001B[43m,\u001B[49m\n\u001B[1;32m    672\u001B[0m \u001B[43m        \u001B[49m\u001B[43marr\u001B[49m\u001B[38;5;241;43m=\u001B[39;49m\u001B[43my\u001B[49m\u001B[43m,\u001B[49m\n\u001B[1;32m    673\u001B[0m \u001B[43m        \u001B[49m\u001B[43min_rate\u001B[49m\u001B[38;5;241;43m=\u001B[39;49m\u001B[43morig_sr\u001B[49m\u001B[43m,\u001B[49m\n\u001B[1;32m    674\u001B[0m \u001B[43m        \u001B[49m\u001B[43mout_rate\u001B[49m\u001B[38;5;241;43m=\u001B[39;49m\u001B[43mtarget_sr\u001B[49m\u001B[43m,\u001B[49m\n\u001B[1;32m    675\u001B[0m \u001B[43m        \u001B[49m\u001B[43mquality\u001B[49m\u001B[38;5;241;43m=\u001B[39;49m\u001B[43mres_type\u001B[49m\u001B[43m,\u001B[49m\n\u001B[1;32m    676\u001B[0m \u001B[43m    \u001B[49m\u001B[43m)\u001B[49m\n\u001B[1;32m    677\u001B[0m \u001B[38;5;28;01melse\u001B[39;00m:\n\u001B[1;32m    678\u001B[0m     y_hat \u001B[38;5;241m=\u001B[39m resampy\u001B[38;5;241m.\u001B[39mresample(y, orig_sr, target_sr, \u001B[38;5;28mfilter\u001B[39m\u001B[38;5;241m=\u001B[39mres_type, axis\u001B[38;5;241m=\u001B[39maxis)\n",
      "File \u001B[0;32m/Library/Frameworks/Python.framework/Versions/3.10/lib/python3.10/site-packages/numpy/lib/shape_base.py:401\u001B[0m, in \u001B[0;36mapply_along_axis\u001B[0;34m(func1d, axis, arr, *args, **kwargs)\u001B[0m\n\u001B[1;32m    399\u001B[0m \u001B[38;5;66;03m# save the first result, then compute and save all remaining results\u001B[39;00m\n\u001B[1;32m    400\u001B[0m buff[ind0] \u001B[38;5;241m=\u001B[39m res\n\u001B[0;32m--> 401\u001B[0m \u001B[38;5;28;01mfor\u001B[39;00m ind \u001B[38;5;129;01min\u001B[39;00m inds:\n\u001B[1;32m    402\u001B[0m     buff[ind] \u001B[38;5;241m=\u001B[39m asanyarray(func1d(inarr_view[ind], \u001B[38;5;241m*\u001B[39margs, \u001B[38;5;241m*\u001B[39m\u001B[38;5;241m*\u001B[39mkwargs))\n\u001B[1;32m    404\u001B[0m \u001B[38;5;28;01mif\u001B[39;00m \u001B[38;5;129;01mnot\u001B[39;00m \u001B[38;5;28misinstance\u001B[39m(res, matrix):\n\u001B[1;32m    405\u001B[0m     \u001B[38;5;66;03m# wrap the array, to preserve subclasses\u001B[39;00m\n",
      "File \u001B[0;32m/Library/Frameworks/Python.framework/Versions/3.10/lib/python3.10/site-packages/numpy/lib/shape_base.py:370\u001B[0m, in \u001B[0;36m<genexpr>\u001B[0;34m(.0)\u001B[0m\n\u001B[1;32m    367\u001B[0m \u001B[38;5;66;03m# compute indices for the iteration axes, and append a trailing ellipsis to\u001B[39;00m\n\u001B[1;32m    368\u001B[0m \u001B[38;5;66;03m# prevent 0d arrays decaying to scalars, which fixes gh-8642\u001B[39;00m\n\u001B[1;32m    369\u001B[0m inds \u001B[38;5;241m=\u001B[39m ndindex(inarr_view\u001B[38;5;241m.\u001B[39mshape[:\u001B[38;5;241m-\u001B[39m\u001B[38;5;241m1\u001B[39m])\n\u001B[0;32m--> 370\u001B[0m inds \u001B[38;5;241m=\u001B[39m (ind \u001B[38;5;241m+\u001B[39m (\u001B[38;5;28mEllipsis\u001B[39m,) \u001B[38;5;28;01mfor\u001B[39;00m ind \u001B[38;5;129;01min\u001B[39;00m inds)\n\u001B[1;32m    372\u001B[0m \u001B[38;5;66;03m# invoke the function on the first item\u001B[39;00m\n\u001B[1;32m    373\u001B[0m \u001B[38;5;28;01mtry\u001B[39;00m:\n",
      "\u001B[0;31mKeyboardInterrupt\u001B[0m: "
     ]
    }
   ],
   "source": [
    "# Preprocessamento di ciascun file audio con progress bar\n",
    "with tqdm(total=len(audio_files), desc='Processing audio files') as progress_bar:\n",
    "    for file in audio_files:\n",
    "        preprocess_audio(file, output_dir, desired_length_samples, sampling_rate)\n",
    "        progress_bar.update(1)\n",
    "\n",
    "print(\"Tutti gli spettrogrammi sono stati generati e salvati come immagini.\")"
   ],
   "metadata": {
    "collapsed": true,
    "ExecuteTime": {
     "end_time": "2024-05-21T10:08:32.374686Z",
     "start_time": "2024-05-21T10:04:34.136405Z"
    }
   },
   "id": "initial_id",
   "execution_count": 5
  }
 ],
 "metadata": {
  "kernelspec": {
   "display_name": "Python 3",
   "language": "python",
   "name": "python3"
  },
  "language_info": {
   "codemirror_mode": {
    "name": "ipython",
    "version": 2
   },
   "file_extension": ".py",
   "mimetype": "text/x-python",
   "name": "python",
   "nbconvert_exporter": "python",
   "pygments_lexer": "ipython2",
   "version": "2.7.6"
  }
 },
 "nbformat": 4,
 "nbformat_minor": 5
}
