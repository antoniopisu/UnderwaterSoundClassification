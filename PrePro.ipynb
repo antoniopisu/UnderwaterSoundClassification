{
 "cells": [
  {
   "cell_type": "code",
   "id": "initial_id",
   "metadata": {
    "collapsed": true,
    "ExecuteTime": {
     "end_time": "2024-05-22T09:48:03.888515Z",
     "start_time": "2024-05-22T09:48:03.872844Z"
    }
   },
   "source": [
    "# Importazione delle librerie necessarie\n",
    "import os\n",
    "import numpy as np\n",
    "import librosa\n",
    "import soundfile as sf\n",
    "import matplotlib.pyplot as plt\n",
    "import librosa.display\n",
    "from pydub import AudioSegment\n",
    "from tqdm import tqdm  # Importa la libreria tqdm per la progress bar"
   ],
   "outputs": [],
   "execution_count": 11
  },
  {
   "metadata": {
    "ExecuteTime": {
     "end_time": "2024-05-22T09:48:03.935357Z",
     "start_time": "2024-05-22T09:48:03.919979Z"
    }
   },
   "cell_type": "code",
   "source": [
    "# Definizione delle directory di input e output\n",
    "input_dir = 'dataset_5'\n",
    "output_dir = 'NuovoDataset'\n",
    "\n",
    "# Creare la directory di output se non esiste\n",
    "os.makedirs(output_dir, exist_ok=True)\n",
    "\n",
    "# Definizione della lunghezza desiderata in secondi e in campioni\n",
    "desired_length_sec = 4  # Durata desiderata in secondi\n",
    "sampling_rate = 192000  # Frequenza di campionamento (modifica se necessario)\n",
    "desired_length_samples = int(desired_length_sec * sampling_rate)"
   ],
   "id": "2717a55044c98c4",
   "outputs": [],
   "execution_count": 12
  },
  {
   "metadata": {
    "ExecuteTime": {
     "end_time": "2024-05-22T09:48:03.982259Z",
     "start_time": "2024-05-22T09:48:03.951006Z"
    }
   },
   "cell_type": "code",
   "source": [
    "# Lista per memorizzare i percorsi dei file audio\n",
    "audio_files = []\n",
    "\n",
    "# Scorrere ricorsivamente le cartelle nel dataset\n",
    "for root, dirs, files in os.walk(input_dir):\n",
    "    for file in files:\n",
    "        if file.endswith('.wav') or file.endswith('.mp3'):\n",
    "            audio_files.append(os.path.join(root, file))\n",
    "\n",
    "# Visualizzare il numero di file audio trovati\n",
    "print(f\"Numero di file audio trovati: {len(audio_files)}\")"
   ],
   "id": "467864b7489c07f",
   "outputs": [
    {
     "name": "stdout",
     "output_type": "stream",
     "text": [
      "Numero di file audio trovati: 5\n"
     ]
    }
   ],
   "execution_count": 13
  },
  {
   "metadata": {
    "ExecuteTime": {
     "end_time": "2024-05-22T09:48:03.997889Z",
     "start_time": "2024-05-22T09:48:03.982259Z"
    }
   },
   "cell_type": "code",
   "source": [
    "import numpy as np\n",
    "import librosa\n",
    "import librosa.display\n",
    "import matplotlib.pyplot as plt\n",
    "import os\n",
    "\n",
    "def preprocess_audio(file, input_dir, output_dir, segment_length_seconds, sampling_rate):\n",
    "    # Carica l'audio utilizzando librosa (sia MP3 che WAV)\n",
    "    y, sr = librosa.load(file, sr=sampling_rate, mono=True)\n",
    "    \n",
    "    # Calcola la lunghezza di ciascun segmento in campioni\n",
    "    segment_length_samples = segment_length_seconds * sampling_rate\n",
    "    \n",
    "    # Calcola il numero di segmenti\n",
    "    num_segments = int(np.ceil(len(y) / segment_length_samples))\n",
    "    \n",
    "    # Creare la struttura delle directory di output mantenendo la stessa gerarchia\n",
    "    relative_path = os.path.relpath(file, input_dir)\n",
    "    base_output_path = os.path.splitext(os.path.join(output_dir, relative_path))[0]\n",
    "    \n",
    "    for i in range(num_segments):\n",
    "        start_sample = i * segment_length_samples\n",
    "        end_sample = min(start_sample + segment_length_samples, len(y))\n",
    "        y_segment = y[start_sample:end_sample]\n",
    "        \n",
    "        # Assicura che la lunghezza del segmento sia corretta\n",
    "        if len(y_segment) < segment_length_samples:\n",
    "            y_segment = np.pad(y_segment, (0, segment_length_samples - len(y_segment)), mode='constant')\n",
    "        \n",
    "        # Crea lo spettrogramma utilizzando la STFT\n",
    "        D = np.abs(librosa.stft(y_segment))  # Magnitudine della STFT\n",
    "        D_db = librosa.amplitude_to_db(D, ref=np.max)\n",
    "        \n",
    "        # Salva lo spettrogramma come immagine\n",
    "        spectrogram_output_file = f\"{base_output_path}_segment_{i+1}.png\"\n",
    "        os.makedirs(os.path.dirname(spectrogram_output_file), exist_ok=True)\n",
    "        \n",
    "        plt.figure(figsize=(10, 4))\n",
    "        librosa.display.specshow(D_db, sr=sr, x_axis='time', y_axis='log')\n",
    "        plt.colorbar(format='%+2.0f dB')\n",
    "        plt.title(f'Spectrogram (STFT) - Segment {i+1}')\n",
    "        plt.tight_layout()\n",
    "        plt.savefig(spectrogram_output_file, bbox_inches='tight', pad_inches=0.1)\n",
    "        plt.close()\n",
    "\n",
    "# Esempio di utilizzo dello script\n",
    "input_dir = 'dataset_5'\n",
    "output_dir = 'NuovoDataset'\n",
    "segment_length_seconds = 4  # Lunghezza di ciascun segmento in secondi\n",
    "sampling_rate = 22050  # o qualsiasi altra frequenza di campionamento desiderata\n",
    "\n",
    "# Itera attraverso i file nell'input directory e genera spettrogrammi\n",
    "for root, dirs, files in os.walk(input_dir):\n",
    "    for file in files:\n",
    "        if file.endswith('.mp3') or file.endswith('.wav'):\n",
    "            file_path = os.path.join(root, file)\n",
    "            preprocess_audio(file_path, input_dir, output_dir, segment_length_seconds, sampling_rate)\n"
   ],
   "id": "a673fd73f4de08a",
   "outputs": [],
   "execution_count": 14
  },
  {
   "metadata": {
    "ExecuteTime": {
     "end_time": "2024-05-22T09:48:04.029101Z",
     "start_time": "2024-05-22T09:48:03.997889Z"
    }
   },
   "cell_type": "code",
   "source": [
    "# Preprocessamento di ciascun file audio con progress bar\n",
    "with tqdm(total=len(audio_files), desc='Processing audio files') as progress_bar:\n",
    "    for file in audio_files:\n",
    "        preprocess_audio(file, output_dir, desired_length_samples, sampling_rate)\n",
    "        progress_bar.update(1)\n",
    "\n",
    "print(\"Tutti gli spettrogrammi sono stati generati e salvati come immagini.\")"
   ],
   "id": "f5708ed4132208f4",
   "outputs": [
    {
     "name": "stderr",
     "output_type": "stream",
     "text": [
      "Processing audio files:   0%|          | 0/5 [00:00<?, ?it/s]\n"
     ]
    },
    {
     "ename": "TypeError",
     "evalue": "preprocess_audio() missing 1 required positional argument: 'sampling_rate'",
     "output_type": "error",
     "traceback": [
      "\u001B[1;31m---------------------------------------------------------------------------\u001B[0m",
      "\u001B[1;31mTypeError\u001B[0m                                 Traceback (most recent call last)",
      "Cell \u001B[1;32mIn[15], line 4\u001B[0m\n\u001B[0;32m      2\u001B[0m \u001B[38;5;28;01mwith\u001B[39;00m tqdm(total\u001B[38;5;241m=\u001B[39m\u001B[38;5;28mlen\u001B[39m(audio_files), desc\u001B[38;5;241m=\u001B[39m\u001B[38;5;124m'\u001B[39m\u001B[38;5;124mProcessing audio files\u001B[39m\u001B[38;5;124m'\u001B[39m) \u001B[38;5;28;01mas\u001B[39;00m progress_bar:\n\u001B[0;32m      3\u001B[0m     \u001B[38;5;28;01mfor\u001B[39;00m file \u001B[38;5;129;01min\u001B[39;00m audio_files:\n\u001B[1;32m----> 4\u001B[0m         \u001B[43mpreprocess_audio\u001B[49m\u001B[43m(\u001B[49m\u001B[43mfile\u001B[49m\u001B[43m,\u001B[49m\u001B[43m \u001B[49m\u001B[43moutput_dir\u001B[49m\u001B[43m,\u001B[49m\u001B[43m \u001B[49m\u001B[43mdesired_length_samples\u001B[49m\u001B[43m,\u001B[49m\u001B[43m \u001B[49m\u001B[43msampling_rate\u001B[49m\u001B[43m)\u001B[49m\n\u001B[0;32m      5\u001B[0m         progress_bar\u001B[38;5;241m.\u001B[39mupdate(\u001B[38;5;241m1\u001B[39m)\n\u001B[0;32m      7\u001B[0m \u001B[38;5;28mprint\u001B[39m(\u001B[38;5;124m\"\u001B[39m\u001B[38;5;124mTutti gli spettrogrammi sono stati generati e salvati come immagini.\u001B[39m\u001B[38;5;124m\"\u001B[39m)\n",
      "\u001B[1;31mTypeError\u001B[0m: preprocess_audio() missing 1 required positional argument: 'sampling_rate'"
     ]
    }
   ],
   "execution_count": 15
  }
 ],
 "metadata": {
  "kernelspec": {
   "display_name": "Python 3",
   "language": "python",
   "name": "python3"
  },
  "language_info": {
   "codemirror_mode": {
    "name": "ipython",
    "version": 2
   },
   "file_extension": ".py",
   "mimetype": "text/x-python",
   "name": "python",
   "nbconvert_exporter": "python",
   "pygments_lexer": "ipython2",
   "version": "2.7.6"
  }
 },
 "nbformat": 4,
 "nbformat_minor": 5
}
