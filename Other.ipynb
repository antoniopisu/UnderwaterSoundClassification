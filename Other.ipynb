{
 "cells": [
  {
   "cell_type": "code",
   "outputs": [
    {
     "ename": "TypeError",
     "evalue": "slice indices must be integers or None or have an __index__ method",
     "output_type": "error",
     "traceback": [
      "\u001B[1;31m---------------------------------------------------------------------------\u001B[0m",
      "\u001B[1;31mTypeError\u001B[0m                                 Traceback (most recent call last)",
      "Cell \u001B[1;32mIn[5], line 39\u001B[0m\n\u001B[0;32m     36\u001B[0m                 \u001B[38;5;28mprint\u001B[39m(\u001B[38;5;124mf\u001B[39m\u001B[38;5;124m\"\u001B[39m\u001B[38;5;124mErrore: La directory non è vuota o non può essere rimossa: \u001B[39m\u001B[38;5;132;01m{\u001B[39;00mdir_path\u001B[38;5;132;01m}\u001B[39;00m\u001B[38;5;124m\"\u001B[39m)\n\u001B[0;32m     38\u001B[0m \u001B[38;5;66;03m# Esegui la funzione\u001B[39;00m\n\u001B[1;32m---> 39\u001B[0m move_audio_files_to_root(others_dir)\n\u001B[0;32m     41\u001B[0m \u001B[38;5;28mprint\u001B[39m(\u001B[38;5;124m\"\u001B[39m\u001B[38;5;124mRiorganizzazione completata. Tutti i file audio sono stati spostati nella cartella \u001B[39m\u001B[38;5;124m'\u001B[39m\u001B[38;5;124mothers\u001B[39m\u001B[38;5;124m'\u001B[39m\u001B[38;5;124m.\u001B[39m\u001B[38;5;124m\"\u001B[39m)\n",
      "Cell \u001B[1;32mIn[5], line 11\u001B[0m, in \u001B[0;36mmove_audio_files_to_root\u001B[1;34m(directory)\u001B[0m\n\u001B[0;32m      9\u001B[0m \u001B[38;5;28;01mfor\u001B[39;00m root, dirs, files \u001B[38;5;129;01min\u001B[39;00m os\u001B[38;5;241m.\u001B[39mwalk(directory):\n\u001B[0;32m     10\u001B[0m     \u001B[38;5;28;01mfor\u001B[39;00m file \u001B[38;5;129;01min\u001B[39;00m files:\n\u001B[1;32m---> 11\u001B[0m         \u001B[38;5;28;01mif\u001B[39;00m file\u001B[38;5;241m.\u001B[39mendswith(\u001B[38;5;124m'\u001B[39m\u001B[38;5;124m.wav\u001B[39m\u001B[38;5;124m'\u001B[39m , \u001B[38;5;124m'\u001B[39m\u001B[38;5;124m.mp3\u001B[39m\u001B[38;5;124m'\u001B[39m):\n\u001B[0;32m     12\u001B[0m             source_path \u001B[38;5;241m=\u001B[39m os\u001B[38;5;241m.\u001B[39mpath\u001B[38;5;241m.\u001B[39mjoin(root, file)\n\u001B[0;32m     13\u001B[0m             destination_path \u001B[38;5;241m=\u001B[39m os\u001B[38;5;241m.\u001B[39mpath\u001B[38;5;241m.\u001B[39mjoin(directory, file)\n",
      "\u001B[1;31mTypeError\u001B[0m: slice indices must be integers or None or have an __index__ method"
     ]
    }
   ],
   "source": [
    "import os\n",
    "import shutil\n",
    "\n",
    "# Definizione del percorso alla cartella 'others'\n",
    "others_dir = os.path.join('Dataset', 'Non-Target', 'others')\n",
    "\n",
    "# Funzione per spostare tutti i file audio dalle sottocartelle alla cartella 'others'\n",
    "def move_audio_files_to_root(directory):\n",
    "    for root, dirs, files in os.walk(directory):\n",
    "        for file in files:\n",
    "            if file.endswith('.wav' , '.mp3'):\n",
    "                source_path = os.path.join(root, file)\n",
    "                destination_path = os.path.join(directory, file)\n",
    "                if not os.path.exists(destination_path):\n",
    "                    shutil.move(source_path, destination_path)\n",
    "                else:\n",
    "                    # In caso di file duplicati, rinomina il file\n",
    "                    base, extension = os.path.splitext(file)\n",
    "                    counter = 1\n",
    "                    new_file_name = f\"{base}_{counter}{extension}\"\n",
    "                    new_destination_path = os.path.join(directory, new_file_name)\n",
    "                    while os.path.exists(new_destination_path):\n",
    "                        counter += 1\n",
    "                        new_file_name = f\"{base}_{counter}{extension}\"\n",
    "                        new_destination_path = os.path.join(directory, new_file_name)\n",
    "                    shutil.move(source_path, new_destination_path)\n",
    "\n",
    "    # Rimuovi tutte le sottocartelle vuote\n",
    "    for root, dirs, files in os.walk(directory, topdown=False):\n",
    "        for dir in dirs:\n",
    "            dir_path = os.path.join(root, dir)\n",
    "            try:\n",
    "                os.rmdir(dir_path)\n",
    "                print(f\"Rimossa la directory vuota: {dir_path}\")\n",
    "            except OSError:\n",
    "                print(f\"Errore: La directory non è vuota o non può essere rimossa: {dir_path}\")\n",
    "\n",
    "# Esegui la funzione\n",
    "move_audio_files_to_root(others_dir)\n",
    "\n",
    "print(\"Riorganizzazione completata. Tutti i file audio sono stati spostati nella cartella 'others'.\")\n"
   ],
   "metadata": {
    "collapsed": false,
    "ExecuteTime": {
     "end_time": "2024-05-31T09:29:02.793427Z",
     "start_time": "2024-05-31T09:29:02.690903Z"
    }
   },
   "id": "6d2464ef1701ad39",
   "execution_count": 5
  },
  {
   "cell_type": "markdown",
   "source": [],
   "metadata": {
    "collapsed": false
   },
   "id": "abe0784024940297"
  }
 ],
 "metadata": {
  "kernelspec": {
   "display_name": "Python 3",
   "language": "python",
   "name": "python3"
  },
  "language_info": {
   "codemirror_mode": {
    "name": "ipython",
    "version": 2
   },
   "file_extension": ".py",
   "mimetype": "text/x-python",
   "name": "python",
   "nbconvert_exporter": "python",
   "pygments_lexer": "ipython2",
   "version": "2.7.6"
  }
 },
 "nbformat": 4,
 "nbformat_minor": 5
}
